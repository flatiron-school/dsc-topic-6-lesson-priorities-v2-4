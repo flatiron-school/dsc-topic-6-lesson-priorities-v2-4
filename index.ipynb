{
 "cells": [
  {
   "cell_type": "markdown",
   "metadata": {
    "index": 0,
    "solution": false
   },
   "source": [
    "# 1st Priority\n",
    "\n",
    "If you are short on time, be sure to make it through these items:\n",
    "\n",
    "- Selecting Data\n",
    "- Filtering and Ordering\n",
    "- Grouping Data with SQL\n"
   ]
  },
  {
   "cell_type": "markdown",
   "metadata": {
    "index": 1,
    "solution": false
   },
   "source": [
    "# 2nd Priority\n",
    "\n",
    "- Selecting Data - Lab\n",
    "- Filtering and Ordering Lab\n",
    "- Grouping Data with SQL Lab\n",
    "- SQL Database Data Types"
   ]
  },
  {
   "cell_type": "markdown",
   "metadata": {
    "index": 2,
    "solution": false
   },
   "source": [
    "# Appendix\n",
    "\n",
    "After you have learned how to connect to a database and practice the fundamental keywords, the Appendix will lead you through creating a database, and inserting and altering the data within it.\n"
   ]
  },
  {
   "cell_type": "markdown",
   "metadata": {
    "index": 3,
    "solution": false
   },
   "source": [
    "# Note On Lesson Priorities\n",
    "\n",
    "The items in the topics are meant to be completed sequentially. Lesson priorities are meant to help you zero in on the most important content if you are short on time. That does not mean the items marked as 2nd Priority are not important to your development as a data scientist. Rather, it means that they do not introduce concepts that are essential to progressing through the Flatiron Data Science program.\n",
    "\n",
    "You will notice that many labs are marked 2nd Priority. Labs reinforce concepts which are introduced by prior items. If you are short on time, your first priority should be to digest the concept where it has been introduced, then reinforce the concept in the lab when you have time."
   ]
  }
 ],
 "metadata": {
  "kernelspec": {
   "display_name": "learn-env",
   "language": "python",
   "name": "learn-env"
  },
  "language_info": {
   "codemirror_mode": {
    "name": "ipython",
    "version": 3
   },
   "file_extension": ".py",
   "mimetype": "text/x-python",
   "name": "python",
   "nbconvert_exporter": "python",
   "pygments_lexer": "ipython3",
   "version": "3.7.3"
  }
 },
 "nbformat": 4,
 "nbformat_minor": 4
}
